{
 "cells": [
  {
   "cell_type": "code",
   "execution_count": 1,
   "metadata": {
    "collapsed": true
   },
   "outputs": [],
   "source": [
    "# Implementing the network structure from the paper https://arxiv.org/abs/1704.02019\n",
    "# Associative Content Addressable Memory with Exponentially Many Robust Stable States\n",
    "# By Rishidev Chaudhuri and Ila Fiete"
   ]
  },
  {
   "cell_type": "code",
   "execution_count": 2,
   "metadata": {
    "collapsed": true
   },
   "outputs": [],
   "source": [
    "# Seems to work nicely now!\n",
    "\n",
    "# Added a draft cell to count the number of satisfied states"
   ]
  },
  {
   "cell_type": "code",
   "execution_count": 3,
   "metadata": {
    "collapsed": false
   },
   "outputs": [
    {
     "name": "stderr",
     "output_type": "stream",
     "text": [
      "/Users/adammarblestone/Library/Enthought/Canopy_64bit/User/lib/python2.7/site-packages/matplotlib/font_manager.py:273: UserWarning: Matplotlib is building the font cache using fc-list. This may take a moment.\n",
      "  warnings.warn('Matplotlib is building the font cache using fc-list. This may take a moment.')\n"
     ]
    }
   ],
   "source": [
    "import numpy as np\n",
    "import matplotlib.pyplot as plt\n",
    "import random\n",
    "import pprint\n",
    "import time\n",
    "%matplotlib inline\n",
    "\n",
    "import matplotlib.cm as cm # color maps"
   ]
  },
  {
   "cell_type": "code",
   "execution_count": 4,
   "metadata": {
    "collapsed": true
   },
   "outputs": [],
   "source": [
    "global_num_timesteps = 1000"
   ]
  },
  {
   "cell_type": "code",
   "execution_count": 5,
   "metadata": {
    "collapsed": false
   },
   "outputs": [],
   "source": [
    "def matching_assignment(N, N_c, z, z_c):\n",
    "    \n",
    "    start = time.time()\n",
    "    \n",
    "    if N_c * z_c != N * z:\n",
    "        print \"MISMATCHED SIZES\"\n",
    "\n",
    "    outgoing_edges_left = []\n",
    "    for i in range(N):\n",
    "        for j in range(z):\n",
    "            outgoing_edges_left.append((i,\"?\"))\n",
    "\n",
    "    incoming_edges_right = []\n",
    "    for k in range(N_c):\n",
    "        for l in range(z_c):\n",
    "            incoming_edges_right.append((\"?\", k))\n",
    "\n",
    "    matches = []\n",
    "    while len(matches) < N*z:\n",
    "        random_index_left = np.random.randint(0, len(outgoing_edges_left), size=1)[0]\n",
    "        random_index_right = np.random.randint(0, len(incoming_edges_right), size=1)[0]\n",
    "        s = (outgoing_edges_left[random_index_left][0], incoming_edges_right[random_index_right][1])\n",
    "        if not s in matches:\n",
    "            matches.append(s)\n",
    "            outgoing_edges_left.pop(random_index_left)\n",
    "            incoming_edges_right.pop(random_index_right)\n",
    "        if time.time() - start > 10: # This is to re-start if it doesn't find a good assignment on this round\n",
    "            print \"Trying another assignment...\"\n",
    "            return matching_assignment(N, N_c, z, z_c)\n",
    "        \n",
    "    input_to_constraint_node_connectivity = []\n",
    "    for n in range(N):\n",
    "        outgoing = []\n",
    "        for o in matches:\n",
    "            if o[0] == n:\n",
    "                outgoing.append(o[1])\n",
    "        input_to_constraint_node_connectivity.append(outgoing)\n",
    "        \n",
    "    return input_to_constraint_node_connectivity"
   ]
  },
  {
   "cell_type": "code",
   "execution_count": 6,
   "metadata": {
    "collapsed": false
   },
   "outputs": [
    {
     "name": "stdout",
     "output_type": "stream",
     "text": [
      "N = 60\n",
      "N_c = 25\n",
      "z = 5\n",
      "z_c_avg = 12\n",
      "r = 8\n",
      "M_typical = 16\n",
      "Trying another assignment...\n"
     ]
    },
    {
     "data": {
      "image/png": "[encoded data removed]",
      "text/plain": [
       "<matplotlib.figure.Figure at 0x103f89ad0>"
      ]
     },
     "metadata": {},
     "output_type": "display_data"
    },
    {
     "name": "stdout",
     "output_type": "stream",
     "text": [
      "\n",
      "total outgoing edges\n",
      "300\n"
     ]
    },
    {
     "data": {
      "image/png": "[encoded data removed]",
      "text/plain": [
       "<matplotlib.figure.Figure at 0x1007342d0>"
      ]
     },
     "metadata": {},
     "output_type": "display_data"
    },
    {
     "name": "stdout",
     "output_type": "stream",
     "text": [
      "\n",
      "total incoming edges\n",
      "300\n"
     ]
    }
   ],
   "source": [
    "# First define the input to constraint node connectivity\n",
    "\n",
    "N = 60 # Should be a multiple of 12\n",
    "print \"N = %i\" % N\n",
    "\n",
    "N_c = int(5*N/12)\n",
    "print \"N_c = %i\" % N_c\n",
    "\n",
    "z = 5 # Should be 5\n",
    "print \"z = %i\" % z\n",
    "\n",
    "z_c_avg = int(N*z/N_c)\n",
    "print \"z_c_avg = %i\" % z_c_avg\n",
    "\n",
    "r = 8\n",
    "print \"r = %i\" % r\n",
    "\n",
    "M_typical = 2**(z_c_avg-r)\n",
    "print \"M_typical = %i\" % M_typical\n",
    "\n",
    "input_to_constraint_node_connectivity = matching_assignment(N, N_c, z, z_c_avg)\n",
    "    \n",
    "constraint_node_to_input_connectivity = []\n",
    "for i in range(N_c):\n",
    "    temp = []\n",
    "    for j in range(N):\n",
    "        if i in input_to_constraint_node_connectivity[j]:\n",
    "            temp.append(j)\n",
    "    constraint_node_to_input_connectivity.append(temp)\n",
    "    \n",
    "plt.figure()\n",
    "plt.title(\"z histogram: should all be 5\")\n",
    "plt.xlabel(\"outgoing edges\")\n",
    "plt.ylabel(\"count\")\n",
    "plt.hist([len(q) for q in input_to_constraint_node_connectivity])\n",
    "plt.show()\n",
    "\n",
    "print \"\\ntotal outgoing edges\"\n",
    "print np.sum([len(q) for q in input_to_constraint_node_connectivity])\n",
    "\n",
    "plt.figure()\n",
    "plt.title(\"z_c histogram: should all be 12\")\n",
    "plt.xlabel(\"incoming edges to constraint node\")\n",
    "plt.ylabel(\"count\")\n",
    "plt.hist([len(q) for q in constraint_node_to_input_connectivity])\n",
    "plt.show()\n",
    "\n",
    "print \"\\ntotal incoming edges\"\n",
    "print np.sum([len(q) for q in constraint_node_to_input_connectivity])"
   ]
  },
  {
   "cell_type": "code",
   "execution_count": 7,
   "metadata": {
    "collapsed": false
   },
   "outputs": [
    {
     "name": "stdout",
     "output_type": "stream",
     "text": [
      "Estimated number of stable states: 7.17465e-43\n"
     ]
    },
    {
     "name": "stderr",
     "output_type": "stream",
     "text": [
      "/Users/adammarblestone/anaconda/envs/py27/lib/python2.7/site-packages/ipykernel/__main__.py:7: RuntimeWarning: divide by zero encountered in log10\n"
     ]
    },
    {
     "data": {
      "image/png": "[encoded data removed]",
      "text/plain": [
       "<matplotlib.figure.Figure at 0x10f6016d0>"
      ]
     },
     "metadata": {},
     "output_type": "display_data"
    }
   ],
   "source": [
    "# Estimating the number of stable states: From equation 2 of the paper, requiring r*z/z_c <= 1 for exponential scaling\n",
    "z_hat = float(z)/float(z_c_avg)\n",
    "num_states = 2**(N*(1.0 - r*z_hat))\n",
    "print \"Estimated number of stable states: %g\" % num_states\n",
    "\n",
    "plt.figure()\n",
    "plt.plot([np.log10(2**(Nprime*(1.0 - r*z_hat))) for Nprime in range(1000)])\n",
    "plt.xlabel(\"N\")\n",
    "plt.ylabel(\"log10(2**(N*(1.0 - r*z_hat)))\")\n",
    "plt.show()"
   ]
  },
  {
   "cell_type": "code",
   "execution_count": 8,
   "metadata": {
    "collapsed": false
   },
   "outputs": [
    {
     "name": "stdout",
     "output_type": "stream",
     "text": [
      "[array([0, 0, 1, 0, 0, 1, 0, 0, 1, 0, 0, 1])]\n"
     ]
    }
   ],
   "source": [
    "def generate_random_parity_states(input_size, num_parity_states_to_generate):\n",
    "    parity_states = []\n",
    "    for i in range(num_parity_states_to_generate):\n",
    "        parity = 1\n",
    "        state = []\n",
    "        while parity == 1:\n",
    "            state = np.random.randint(0,2,size = input_size)\n",
    "            parity = sum(state) % 2\n",
    "            if state in parity_states:\n",
    "                parity = 1 # A hack to make sure all the permitted parity states in a node are distinct\n",
    "            if parity == 0:\n",
    "                parity_states.append(state)\n",
    "\n",
    "    return parity_states\n",
    "\n",
    "print generate_random_parity_states(12, 1)"
   ]
  },
  {
   "cell_type": "code",
   "execution_count": 9,
   "metadata": {
    "collapsed": true
   },
   "outputs": [],
   "source": [
    "def M_for_constraint_node(constraint_node_index):\n",
    "    z_c_for_this_node = len(constraint_node_to_input_connectivity[constraint_node_index])\n",
    "    return 2**(z_c_for_this_node - r)"
   ]
  },
  {
   "cell_type": "code",
   "execution_count": 10,
   "metadata": {
    "collapsed": false
   },
   "outputs": [
    {
     "name": "stdout",
     "output_type": "stream",
     "text": [
      "{   'bias_term': 6,\n",
      "    'inputs': [3, 13, 14, 20, 26, 29, 32, 36, 43, 44, 50, 52],\n",
      "    'num_inputs': 12,\n",
      "    'offs_preffered': [13, 20, 29, 36, 43, 52],\n",
      "    'ons_preferred': [3, 14, 26, 32, 44, 50],\n",
      "    'preferred_parity_config': array([1, 0, 1, 0, 1, 0, 1, 0, 0, 1, 1, 0])}\n"
     ]
    }
   ],
   "source": [
    "def generate_constraint_node_neurons(constraint_node_index):\n",
    "    neurons = []\n",
    "    z_c_for_this_node = len(constraint_node_to_input_connectivity[constraint_node_index])\n",
    "    M_for_this_node = M_for_constraint_node(constraint_node_index)\n",
    "    for i in range(M_for_this_node):\n",
    "        neuron = {}\n",
    "        neuron[\"inputs\"] = constraint_node_to_input_connectivity[constraint_node_index]\n",
    "        neuron[\"num_inputs\"] = len(neuron[\"inputs\"])\n",
    "        neuron[\"preferred_parity_config\"] = generate_random_parity_states(neuron[\"num_inputs\"], 1)[0]\n",
    "        neuron[\"ons_preferred\"] = [neuron[\"inputs\"][j] for j in range(neuron[\"num_inputs\"]) if neuron[\"preferred_parity_config\"][j] == 1] \n",
    "        neuron[\"offs_preffered\"] = [neuron[\"inputs\"][j] for j in range(neuron[\"num_inputs\"]) if neuron[\"preferred_parity_config\"][j] == 0]\n",
    "        neuron[\"bias_term\"] = neuron[\"num_inputs\"] - np.sum(neuron[\"preferred_parity_config\"])\n",
    "        neurons.append(neuron)\n",
    "\n",
    "    return neurons\n",
    "\n",
    "pp = pprint.PrettyPrinter(indent=4)\n",
    "pp.pprint(generate_constraint_node_neurons(N_c-1)[0]) # Show what the first neuron in the last constraint node looks like"
   ]
  },
  {
   "cell_type": "code",
   "execution_count": 11,
   "metadata": {
    "collapsed": true
   },
   "outputs": [],
   "source": [
    "def get_full_index(constraint_node_index, index_within_node):\n",
    "    return N + sum([M_for_constraint_node(k) for k in range(constraint_node_index)]) + index_within_node"
   ]
  },
  {
   "cell_type": "code",
   "execution_count": null,
   "metadata": {
    "collapsed": false
   },
   "outputs": [
    {
     "name": "stdout",
     "output_type": "stream",
     "text": [
      "total number of neurons 460\n"
     ]
    }
   ],
   "source": [
    "# Generating the full weight matrix and biases\n",
    "\n",
    "last_constraint_node_index = N_c-1\n",
    "\n",
    "last_neuron_in_last_constraint_node_index = M_for_constraint_node(last_constraint_node_index) - 1\n",
    "\n",
    "total_number_neurons = get_full_index(last_constraint_node_index, last_neuron_in_last_constraint_node_index) + 1\n",
    "total_number_neurons = int(total_number_neurons) # Not sure why it is making me do this\n",
    "print \"total number of neurons %i\" % total_number_neurons\n",
    " \n",
    "full_weight_matrix = np.array([[0 for j in range(total_number_neurons)] for i in range(total_number_neurons)], dtype = np.int32)\n",
    "\n",
    "biases = np.array([0 for j in range(total_number_neurons)], dtype = np.int32)\n",
    "\n",
    "constraint_node_preferred_states = []\n",
    "\n",
    "for node in range(N_c): # Index over constraint nodes\n",
    "    neurons_in_node = generate_constraint_node_neurons(node) # Generate neurons in that constraint node\n",
    "    z_c_for_this_node = len(constraint_node_to_input_connectivity[node])\n",
    "    M_for_this_node = M_for_constraint_node(node)\n",
    "    this_node_preferred_states = []\n",
    "    for m in range(M_for_this_node):\n",
    "        neuron_full_index = get_full_index(node, m)\n",
    "        neuron = neurons_in_node[m]\n",
    "        for g in neuron[\"ons_preferred\"]: # Constraint neuron to input neuron and vice versa\n",
    "            full_weight_matrix[neuron_full_index][g] = 1\n",
    "            full_weight_matrix[g][neuron_full_index] = 1\n",
    "        for g in neuron[\"offs_preffered\"]: # Constraint neuron to input neuron and vice versa\n",
    "            full_weight_matrix[neuron_full_index][g] = -1\n",
    "            full_weight_matrix[g][neuron_full_index] = -1\n",
    "        for p in range(m, M_for_this_node): # Inhibitory internal connectivity within the same node\n",
    "            p_full_index = get_full_index(node, p)\n",
    "            if p != m:\n",
    "                full_weight_matrix[neuron_full_index][p_full_index] = -1*(neuron[\"num_inputs\"] - 1)\n",
    "                full_weight_matrix[p_full_index][neuron_full_index] =  -1*(neuron[\"num_inputs\"] - 1)\n",
    "        biases[neuron_full_index] = neuron[\"bias_term\"]\n",
    "        this_node_preferred_states.append(zip(neuron[\"inputs\"], np.ndarray.tolist(neuron[\"preferred_parity_config\"])))\n",
    "    constraint_node_preferred_states.append(this_node_preferred_states)"
   ]
  },
  {
   "cell_type": "code",
   "execution_count": null,
   "metadata": {
    "collapsed": false
   },
   "outputs": [
    {
     "name": "stdout",
     "output_type": "stream",
     "text": [
      "Counting paths...\n"
     ]
    }
   ],
   "source": [
    "# Trying to actually count stable states\n",
    "\n",
    "def intersection(list1, list2):\n",
    "    return list(set(list1) & set(list2))\n",
    "\n",
    "pairs = []\n",
    "\n",
    "for k in range(N_c-1):\n",
    "    states_first = constraint_node_preferred_states[k] # Zip of the input neurons and their preferred parity states for each neuron in the node\n",
    "    states_second = constraint_node_preferred_states[k+1]\n",
    "    \n",
    "    input_identities_first = [q[0] for q in states_first[0]] # The input neurons\n",
    "    input_identities_second = [q[0] for q in states_second[0]] # The input neurons\n",
    "    \n",
    "    input_overlap = intersection(input_identities_first, input_identities_second)\n",
    "    \n",
    "    pairs_from_k = []\n",
    "    \n",
    "    for f in range(len(states_first)):\n",
    "        for s in range(len(states_second)):\n",
    "            sect = intersection(states_first[f], states_second[s])\n",
    "            if len(sect) == len(input_overlap): # For any shared input neurons, the neurons must assign the same 0/1 preference\n",
    "                pairs_from_k.append(((k, f), (k+1, s)))\n",
    "    \n",
    "    pairs.append(pairs_from_k)\n",
    "\n",
    "last = len(pairs) - 1\n",
    "\n",
    "def build_paths(k, edge):\n",
    "    if k == last:\n",
    "        return 1\n",
    "    else:\n",
    "        s = 0\n",
    "        for edge_outgoing in pairs[k+1]:\n",
    "            if edge[1] == edge_outgoing[0]:\n",
    "                s += build_paths(k+1, edge_outgoing)\n",
    "        return s\n",
    "\n",
    "count_paths = True\n",
    "if count_paths:\n",
    "    print \"Counting paths...\"\n",
    "    total_full_paths = 0\n",
    "    for edge in pairs[0]:\n",
    "        total_full_paths += build_paths(0, edge)    \n",
    "    print total_full_paths"
   ]
  },
  {
   "cell_type": "code",
   "execution_count": null,
   "metadata": {
    "collapsed": false
   },
   "outputs": [],
   "source": [
    "plt.rcParams['figure.figsize'] = (18, 18)\n",
    "plt.figure()\n",
    "plt.title(\"Full weight matrix\")\n",
    "cmap = cm.get_cmap('gist_heat', z_c_avg + 1)\n",
    "plt.imshow(full_weight_matrix, cmap = cmap, interpolation='none')\n",
    "plt.colorbar(ticks = np.arange(-1*z_c_avg, 2, 1))\n",
    "plt.show()"
   ]
  },
  {
   "cell_type": "code",
   "execution_count": null,
   "metadata": {
    "collapsed": false
   },
   "outputs": [],
   "source": [
    "plt.rcParams['figure.figsize'] = (21, 7)\n",
    "plt.figure()\n",
    "plt.title(\"Input to constraint node mapping\")\n",
    "adj = full_weight_matrix[:N][:]\n",
    "plt.ylabel(\"Input neurons\")\n",
    "plt.xlabel(\"Constraint neurons\")\n",
    "cmap = cm.get_cmap('gist_heat', 3)\n",
    "plt.imshow(adj, interpolation='none', cmap = cmap, aspect = 0.4*float(total_number_neurons)/float(N))\n",
    "plt.colorbar(ticks = [-1,0,1])\n",
    "\n",
    "plt.show()"
   ]
  },
  {
   "cell_type": "code",
   "execution_count": null,
   "metadata": {
    "collapsed": false
   },
   "outputs": [],
   "source": [
    "plt.rcParams['figure.figsize'] = (21, 8)\n",
    "plt.figure()\n",
    "plt.title(\"Neuron biases\")\n",
    "plt.xlabel(\"Neuron indices\")\n",
    "plt.xlim(0,total_number_neurons)\n",
    "plt.ylabel(\"Bias term\")\n",
    "plt.plot(biases)\n",
    "plt.show()"
   ]
  },
  {
   "cell_type": "code",
   "execution_count": null,
   "metadata": {
    "collapsed": true
   },
   "outputs": [],
   "source": [
    "# Defining some Hopfield aspects\n",
    "\n",
    "def random_state(num_neurons):\n",
    "    return np.random.randint(0, 2, size = num_neurons)\n",
    "\n",
    "def time_step(state, weight_matrix, biases): # Asynchronous mode\n",
    "\n",
    "    x = state[:]\n",
    "    \n",
    "    k = np.random.randint(0, total_number_neurons, size=1)[0] # Pick a random single neuron to update\n",
    "    \n",
    "    a = 0\n",
    "    \n",
    "    for j in range(total_number_neurons):\n",
    "        a += weight_matrix[k][j] * x[j]\n",
    "        \n",
    "    a += biases[k]\n",
    "        \n",
    "    ns = x\n",
    "        \n",
    "    if a > 0:\n",
    "        ns[k] = 1\n",
    "    elif a < 0:\n",
    "        ns[k] = 0\n",
    "    elif a == 0: # If the activation is exactly zero\n",
    "        ns[k] = random.randint(0,1)\n",
    "                        \n",
    "    return np.array(ns, dtype = np.int32)\n",
    "\n",
    "def energy(s, weights, bias):\n",
    "        \n",
    "    E = 0.5*np.dot(np.matmul(weights, s), s) + np.dot(s, bias)\n",
    "        \n",
    "    return -1*E\n",
    "\n",
    "def small_perturbation(perturb_size, state):\n",
    "    new_state = np.zeros(len(state))\n",
    "    prob = float(perturb_size)/float(len(state))\n",
    "    for i in range(len(state)):\n",
    "        if np.random.rand() < prob:\n",
    "            new_state[i] = (state[i] + 1) % 2\n",
    "        else:\n",
    "            new_state[i] = state[i]\n",
    "    return np.array(new_state, dtype = np.int32)"
   ]
  },
  {
   "cell_type": "code",
   "execution_count": null,
   "metadata": {
    "collapsed": false
   },
   "outputs": [],
   "source": [
    "# Test out some Hopfield dynamics\n",
    "initial_random_state = random_state(total_number_neurons)\n",
    "\n",
    "num_timesteps = global_num_timesteps\n",
    "state = np.array(initial_random_state, dtype = np.int32)\n",
    "energies = []\n",
    "e = energy(state, full_weight_matrix, biases)\n",
    "print \"energy %f\" % e, state[:2*N]\n",
    "\n",
    "constraint_node_satisfactions = []\n",
    "sats = []\n",
    "for p in range(N_c):\n",
    "    M = M_for_constraint_node(p)\n",
    "    ind1 = get_full_index(p, 0)\n",
    "    ind2 = get_full_index(p, M-1)\n",
    "    sats.append(np.sum(state[ind1:ind2+1]))\n",
    "constraint_node_satisfactions.append(sats)\n",
    "\n",
    "for i in range(num_timesteps):\n",
    "    new_state = time_step(state, full_weight_matrix, biases)\n",
    "    e = energy(new_state, full_weight_matrix, biases)\n",
    "    state = new_state\n",
    "    \n",
    "    sats = []\n",
    "    for p in range(N_c):\n",
    "        M = M_for_constraint_node(p)\n",
    "        ind1 = get_full_index(p, 0)\n",
    "        ind2 = get_full_index(p, M-1)\n",
    "        sats.append(np.sum(state[ind1:ind2+1]))\n",
    "    constraint_node_satisfactions.append(sats)\n",
    "    \n",
    "    energies.append(e)\n",
    "    \n",
    "print \"energy %f\" % e, new_state[:2*N]\n",
    "\n",
    "plt.figure()\n",
    "plt.xlabel(\"step\")\n",
    "plt.ylabel(\"Hopfield energy function\")\n",
    "plt.title(\"Initial settling\")\n",
    "plt.plot(energies, linewidth = 2)\n",
    "\n",
    "plt.figure()\n",
    "plt.xlabel(\"step\")\n",
    "plt.ylabel(\"# neurons active in constraint node\")\n",
    "plt.title(\"constraint node satisfaction\")\n",
    "for p in range(N_c):\n",
    "    plt.plot([c[p] for c in constraint_node_satisfactions], label = \"node %i\" %p, linewidth = 2, alpha = 0.5)\n",
    "plt.legend(loc=9, bbox_to_anchor=(0.5, -0.1), ncol=4)\n",
    "\n",
    "print \"\\n___Recovery from Perturbation___\"\n",
    "perturb_percent = 2.0\n",
    "print \"Percentage perturbed: %f\" % perturb_percent\n",
    "perturbed_state = small_perturbation(perturb_percent * total_number_neurons / 100.0, state)\n",
    "num_timesteps = global_num_timesteps\n",
    "state = perturbed_state\n",
    "energies = []\n",
    "e = energy(state, full_weight_matrix, biases)\n",
    "\n",
    "constraint_node_satisfactions = []\n",
    "sats = []\n",
    "for p in range(N_c):\n",
    "    M = M_for_constraint_node(p)\n",
    "    ind1 = get_full_index(p, 0)\n",
    "    ind2 = get_full_index(p, M-1)\n",
    "    sats.append(np.sum(state[ind1:ind2+1]))\n",
    "constraint_node_satisfactions.append(sats)\n",
    "\n",
    "print \"energy %f\" % e, state[:2*N]\n",
    "for i in range(num_timesteps):\n",
    "    new_state = time_step(state, full_weight_matrix, biases)\n",
    "    e = energy(new_state, full_weight_matrix, biases)\n",
    "    state = new_state\n",
    "    \n",
    "    sats = []\n",
    "    for p in range(N_c):\n",
    "        M = M_for_constraint_node(p)\n",
    "        ind1 = get_full_index(p, 0)\n",
    "        ind2 = get_full_index(p, M-1)\n",
    "        sats.append(np.sum(state[ind1:ind2+1]))\n",
    "    constraint_node_satisfactions.append(sats)\n",
    "        \n",
    "    energies.append(e)\n",
    "    \n",
    "print \"energy %f\" % e, new_state[:2*N]\n",
    "\n",
    "plt.figure()\n",
    "plt.xlabel(\"step\")\n",
    "plt.ylabel(\"Hopfield energy function\")\n",
    "plt.title(\"Recovery from perturbation\")\n",
    "plt.plot(energies, linewidth = 2)\n",
    "\n",
    "plt.figure()\n",
    "plt.xlabel(\"step\")\n",
    "plt.ylabel(\"# neurons active in constraint node\")\n",
    "plt.title(\"constraint node satisfaction\")\n",
    "for p in range(N_c):\n",
    "    plt.plot([c[p] for c in constraint_node_satisfactions], label = \"node %i\" %p, linewidth = 2, alpha = 0.5)\n",
    "plt.legend(loc=9, bbox_to_anchor=(0.5, -0.1), ncol=4)"
   ]
  },
  {
   "cell_type": "code",
   "execution_count": null,
   "metadata": {
    "collapsed": false
   },
   "outputs": [],
   "source": [
    "initial_nonrandom_state = np.ndarray.tolist(random_state(N)) # Visible nodes random\n",
    "initial_nonrandom_state.extend([0 for j in range(total_number_neurons - N)])\n",
    "for node in range(N_c): # Set just one neuron in each constraint node to be 1\n",
    "    M_for_this_node = M_for_constraint_node(node)\n",
    "    m = np.random.randint(0,M_for_this_node)\n",
    "    neuron_full_index = get_full_index(node, m)\n",
    "    initial_nonrandom_state[neuron_full_index] = 1\n",
    "    \n",
    "num_timesteps = global_num_timesteps\n",
    "state = np.array(initial_nonrandom_state, dtype = np.int32)\n",
    "energies = []\n",
    "e = energy(state, full_weight_matrix, biases)\n",
    "print \"energy %f\" % e, state[:2*N]\n",
    "\n",
    "constraint_node_satisfactions = []\n",
    "sats = []\n",
    "for p in range(N_c):\n",
    "    M = M_for_constraint_node(p)\n",
    "    ind1 = get_full_index(p, 0)\n",
    "    ind2 = get_full_index(p, M-1)\n",
    "    sats.append(np.sum(state[ind1:ind2+1]))\n",
    "constraint_node_satisfactions.append(sats)\n",
    "\n",
    "for i in range(num_timesteps):\n",
    "    new_state = time_step(state, full_weight_matrix, biases)\n",
    "    e = energy(new_state, full_weight_matrix, biases)\n",
    "    state = new_state\n",
    "    \n",
    "    sats = []\n",
    "    for p in range(N_c):\n",
    "        M = M_for_constraint_node(p)\n",
    "        ind1 = get_full_index(p, 0)\n",
    "        ind2 = get_full_index(p, M-1)\n",
    "        sats.append(np.sum(state[ind1:ind2+1]))\n",
    "    constraint_node_satisfactions.append(sats)\n",
    "    \n",
    "    energies.append(e)\n",
    "\n",
    "print \"energy %f\" % e, new_state[:2*N]\n",
    "\n",
    "plt.figure()\n",
    "plt.xlabel(\"step\")\n",
    "plt.ylabel(\"Hopfield energy function\")\n",
    "plt.title(\"Initial settling\")\n",
    "plt.plot(energies, linewidth = 2)\n",
    "\n",
    "plt.figure()\n",
    "plt.xlabel(\"step\")\n",
    "plt.ylabel(\"# neurons active in constraint node\")\n",
    "plt.title(\"constraint node satisfaction\")\n",
    "for p in range(N_c):\n",
    "    plt.plot([c[p] for c in constraint_node_satisfactions], label = \"node %i\" %p, linewidth = 2, alpha = 0.5)\n",
    "plt.legend(loc=9, bbox_to_anchor=(0.5, -0.1), ncol=4)\n",
    "\n",
    "print \"\\n___Recovery from Perturbation___\"\n",
    "perturb_percent = 2.0\n",
    "print \"Percentage perturbed: %f\" % perturb_percent\n",
    "perturbed_state = small_perturbation(perturb_percent * total_number_neurons / 100.0, state)\n",
    "num_timesteps = global_num_timesteps\n",
    "state = perturbed_state\n",
    "energies = []\n",
    "e = energy(state, full_weight_matrix, biases)\n",
    "print \"energy %f\" % e, state[:2*N]\n",
    "\n",
    "constraint_node_satisfactions = []\n",
    "sats = []\n",
    "for p in range(N_c):\n",
    "    M = M_for_constraint_node(p)\n",
    "    ind1 = get_full_index(p, 0)\n",
    "    ind2 = get_full_index(p, M-1)\n",
    "    sats.append(np.sum(state[ind1:ind2+1]))\n",
    "constraint_node_satisfactions.append(sats)\n",
    "\n",
    "for i in range(num_timesteps):\n",
    "    new_state = time_step(state, full_weight_matrix, biases)\n",
    "    e = energy(new_state, full_weight_matrix, biases)\n",
    "    state = new_state\n",
    "    \n",
    "    sats = []\n",
    "    for p in range(N_c):\n",
    "        M = M_for_constraint_node(p)\n",
    "        ind1 = get_full_index(p, 0)\n",
    "        ind2 = get_full_index(p, M-1)\n",
    "        sats.append(np.sum(state[ind1:ind2+1]))\n",
    "    constraint_node_satisfactions.append(sats)\n",
    "        \n",
    "    energies.append(e)\n",
    "    \n",
    "print \"energy %f\" % e, new_state[:2*N]\n",
    "\n",
    "plt.figure()\n",
    "plt.xlabel(\"step\")\n",
    "plt.ylabel(\"Hopfield energy function\")\n",
    "plt.title(\"Recovery from perturbation\")\n",
    "plt.plot(energies, linewidth = 2)\n",
    "\n",
    "plt.figure()\n",
    "plt.xlabel(\"step\")\n",
    "plt.ylabel(\"# neurons active in constraint node\")\n",
    "plt.title(\"constraint node satisfaction\")\n",
    "for p in range(N_c):\n",
    "    plt.plot([c[p] for c in constraint_node_satisfactions], label = \"node %i\" %p, linewidth = 2, alpha = 0.5)\n",
    "plt.legend(loc=9, bbox_to_anchor=(0.5, -0.1), ncol=4)"
   ]
  },
  {
   "cell_type": "code",
   "execution_count": null,
   "metadata": {
    "collapsed": false
   },
   "outputs": [],
   "source": [
    "initial_nonrandom_state = np.ndarray.tolist(np.zeros(N)) # Visible nodes zero\n",
    "initial_nonrandom_state.extend([0 for j in range(total_number_neurons - N)])\n",
    "for node in range(N_c): # Set just one neuron in each constraint node to be 1\n",
    "    M_for_this_node = M_for_constraint_node(node)\n",
    "    m = np.random.randint(0,M_for_this_node)\n",
    "    neuron_full_index = get_full_index(node, m)\n",
    "    initial_nonrandom_state[neuron_full_index] = 1\n",
    "    \n",
    "num_timesteps = global_num_timesteps\n",
    "state = np.array(initial_nonrandom_state, dtype = np.int32)\n",
    "energies = []\n",
    "e = energy(state, full_weight_matrix, biases)\n",
    "print \"energy %f\" % e, state[:2*N]\n",
    "\n",
    "constraint_node_satisfactions = []\n",
    "sats = []\n",
    "for p in range(N_c):\n",
    "    M = M_for_constraint_node(p)\n",
    "    ind1 = get_full_index(p, 0)\n",
    "    ind2 = get_full_index(p, M-1)\n",
    "    sats.append(np.sum(state[ind1:ind2+1]))\n",
    "constraint_node_satisfactions.append(sats)\n",
    "\n",
    "for i in range(num_timesteps):\n",
    "    new_state = time_step(state, full_weight_matrix, biases)\n",
    "    e = energy(new_state, full_weight_matrix, biases)\n",
    "    energies.append(e)\n",
    "    state = new_state\n",
    "    \n",
    "    sats = []\n",
    "    for p in range(N_c):\n",
    "        M = M_for_constraint_node(p)\n",
    "        ind1 = get_full_index(p, 0)\n",
    "        ind2 = get_full_index(p, M-1)\n",
    "        sats.append(np.sum(state[ind1:ind2+1]))\n",
    "    constraint_node_satisfactions.append(sats)\n",
    "    \n",
    "print \"energy %f\" % e, new_state[:2*N]\n",
    "\n",
    "plt.figure()\n",
    "plt.xlabel(\"step\")\n",
    "plt.ylabel(\"Hopfield energy function\")\n",
    "plt.title(\"Initial settling\")\n",
    "plt.plot(energies, linewidth = 2)\n",
    "\n",
    "plt.figure()\n",
    "plt.xlabel(\"step\")\n",
    "plt.ylabel(\"# neurons active in constraint node\")\n",
    "plt.title(\"constraint node satisfaction\")\n",
    "for p in range(N_c):\n",
    "    plt.plot([c[p] for c in constraint_node_satisfactions], label = \"node %i\" %p, linewidth = 2, alpha = 0.5)\n",
    "plt.legend(loc=9, bbox_to_anchor=(0.5, -0.1), ncol=4)\n",
    "\n",
    "print \"\\n___Recovery from Perturbation___\"\n",
    "perturb_percent = 2.0\n",
    "print \"Percentage perturbed: %f\" % perturb_percent\n",
    "perturbed_state = small_perturbation(perturb_percent * total_number_neurons / 100.0, state)\n",
    "num_timesteps = global_num_timesteps\n",
    "state = perturbed_state\n",
    "energies = []\n",
    "e = energy(state, full_weight_matrix, biases)\n",
    "print \"energy %f\" % e, state[:2*N]\n",
    "\n",
    "constraint_node_satisfactions = []\n",
    "sats = []\n",
    "for p in range(N_c):\n",
    "    M = M_for_constraint_node(p)\n",
    "    ind1 = get_full_index(p, 0)\n",
    "    ind2 = get_full_index(p, M-1)\n",
    "    sats.append(np.sum(state[ind1:ind2+1]))\n",
    "constraint_node_satisfactions.append(sats)\n",
    "\n",
    "for i in range(num_timesteps):\n",
    "    new_state = time_step(state, full_weight_matrix, biases)\n",
    "    e = energy(new_state, full_weight_matrix, biases)\n",
    "    energies.append(e)\n",
    "    state = new_state\n",
    "    \n",
    "    sats = []\n",
    "    for p in range(N_c):\n",
    "        M = M_for_constraint_node(p)\n",
    "        ind1 = get_full_index(p, 0)\n",
    "        ind2 = get_full_index(p, M-1)\n",
    "        sats.append(np.sum(state[ind1:ind2+1]))\n",
    "    constraint_node_satisfactions.append(sats)\n",
    "    \n",
    "print \"energy %f\" % e, new_state[:2*N]\n",
    "\n",
    "plt.figure()\n",
    "plt.xlabel(\"step\")\n",
    "plt.ylabel(\"Hopfield energy function\")\n",
    "plt.title(\"Recovery from perturbation\")\n",
    "plt.plot(energies, linewidth = 2)\n",
    "\n",
    "plt.figure()\n",
    "plt.xlabel(\"step\")\n",
    "plt.ylabel(\"# neurons active in constraint node\")\n",
    "plt.title(\"constraint node satisfaction\")\n",
    "for p in range(N_c):\n",
    "    plt.plot([c[p] for c in constraint_node_satisfactions], label = \"node %i\" %p, linewidth = 2, alpha = 0.5)\n",
    "plt.legend(loc=9, bbox_to_anchor=(0.5, -0.1), ncol=4)"
   ]
  }
 ],
 "metadata": {
  "kernelspec": {
   "display_name": "Python 2",
   "language": "python",
   "name": "python2"
  },
  "language_info": {
   "codemirror_mode": {
    "name": "ipython",
    "version": 2
   },
   "file_extension": ".py",
   "mimetype": "text/x-python",
   "name": "python",
   "nbconvert_exporter": "python",
   "pygments_lexer": "ipython2",
   "version": "2.7.11"
  }
 },
 "nbformat": 4,
 "nbformat_minor": 1
}
